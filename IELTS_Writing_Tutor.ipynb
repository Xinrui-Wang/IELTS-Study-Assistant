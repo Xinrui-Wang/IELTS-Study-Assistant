{
  "nbformat": 4,
  "nbformat_minor": 0,
  "metadata": {
    "colab": {
      "provenance": [],
      "authorship_tag": "ABX9TyMVJLlLuOqIdgnBuhMBpGha",
      "include_colab_link": true
    },
    "kernelspec": {
      "name": "python3",
      "display_name": "Python 3"
    },
    "language_info": {
      "name": "python"
    }
  },
  "cells": [
    {
      "cell_type": "markdown",
      "metadata": {
        "id": "view-in-github",
        "colab_type": "text"
      },
      "source": [
        "<a href=\"https://colab.research.google.com/github/Xinrui-Wang/IELTS-Study-Assistant/blob/main/IELTS_Writing_Tutor.ipynb\" target=\"_parent\"><img src=\"https://colab.research.google.com/assets/colab-badge.svg\" alt=\"Open In Colab\"/></a>"
      ]
    },
    {
      "cell_type": "code",
      "source": [
        "pip install openai"
      ],
      "metadata": {
        "colab": {
          "base_uri": "https://localhost:8080/"
        },
        "id": "hN7_FXZ0pDdW",
        "outputId": "83bb2a65-a3ee-468d-83ff-ffb2aba3814f"
      },
      "execution_count": 1,
      "outputs": [
        {
          "output_type": "stream",
          "name": "stdout",
          "text": [
            "Requirement already satisfied: openai in /usr/local/lib/python3.10/dist-packages (1.54.3)\n",
            "Requirement already satisfied: anyio<5,>=3.5.0 in /usr/local/lib/python3.10/dist-packages (from openai) (3.7.1)\n",
            "Requirement already satisfied: distro<2,>=1.7.0 in /usr/local/lib/python3.10/dist-packages (from openai) (1.9.0)\n",
            "Requirement already satisfied: httpx<1,>=0.23.0 in /usr/local/lib/python3.10/dist-packages (from openai) (0.27.2)\n",
            "Requirement already satisfied: jiter<1,>=0.4.0 in /usr/local/lib/python3.10/dist-packages (from openai) (0.7.0)\n",
            "Requirement already satisfied: pydantic<3,>=1.9.0 in /usr/local/lib/python3.10/dist-packages (from openai) (2.9.2)\n",
            "Requirement already satisfied: sniffio in /usr/local/lib/python3.10/dist-packages (from openai) (1.3.1)\n",
            "Requirement already satisfied: tqdm>4 in /usr/local/lib/python3.10/dist-packages (from openai) (4.66.6)\n",
            "Requirement already satisfied: typing-extensions<5,>=4.11 in /usr/local/lib/python3.10/dist-packages (from openai) (4.12.2)\n",
            "Requirement already satisfied: idna>=2.8 in /usr/local/lib/python3.10/dist-packages (from anyio<5,>=3.5.0->openai) (3.10)\n",
            "Requirement already satisfied: exceptiongroup in /usr/local/lib/python3.10/dist-packages (from anyio<5,>=3.5.0->openai) (1.2.2)\n",
            "Requirement already satisfied: certifi in /usr/local/lib/python3.10/dist-packages (from httpx<1,>=0.23.0->openai) (2024.8.30)\n",
            "Requirement already satisfied: httpcore==1.* in /usr/local/lib/python3.10/dist-packages (from httpx<1,>=0.23.0->openai) (1.0.6)\n",
            "Requirement already satisfied: h11<0.15,>=0.13 in /usr/local/lib/python3.10/dist-packages (from httpcore==1.*->httpx<1,>=0.23.0->openai) (0.14.0)\n",
            "Requirement already satisfied: annotated-types>=0.6.0 in /usr/local/lib/python3.10/dist-packages (from pydantic<3,>=1.9.0->openai) (0.7.0)\n",
            "Requirement already satisfied: pydantic-core==2.23.4 in /usr/local/lib/python3.10/dist-packages (from pydantic<3,>=1.9.0->openai) (2.23.4)\n"
          ]
        }
      ]
    },
    {
      "cell_type": "markdown",
      "source": [
        "test"
      ],
      "metadata": {
        "id": "rUfgDJdToGur"
      }
    },
    {
      "cell_type": "code",
      "source": [
        "from openai import OpenAI\n",
        "\n",
        "client = OpenAI(\n",
        "    api_key=\"sk-MgbjqB89s6uRHqhMi08SbQcGXp6Cz3REHjif6sQTgck757XQ\", # 在这里将 MOONSHOT_API_KEY 替换为你从 Kimi 开放平台申请的 API Key\n",
        "    base_url=\"https://api.moonshot.cn/v1\",\n",
        ")\n",
        "\n",
        "completion = client.chat.completions.create(\n",
        "    model = \"moonshot-v1-8k\",\n",
        "    messages = [\n",
        "        {\"role\": \"system\", \"content\": \"你是 Kimi，由 Moonshot AI 提供的人工智能助手，你更擅长中文和英文的对话。你会为用户提供安全，有帮助，准确的回答。同时，你会拒绝一切涉及恐怖主义，种族歧视，黄色暴力等问题的回答。Moonshot AI 为专有名词，不可翻译成其他语言。\"},\n",
        "        {\"role\": \"user\", \"content\": \"你知道什么是雅思作文task1吗\"}\n",
        "    ],\n",
        "    temperature = 0.3,\n",
        ")\n",
        "\n",
        "# 通过 API 我们获得了 Kimi 大模型给予我们的回复消息（role=assistant）\n",
        "print(completion.choices[0].message.content)"
      ],
      "metadata": {
        "colab": {
          "base_uri": "https://localhost:8080/"
        },
        "id": "CTNqZVmhrlvG",
        "outputId": "785dffcd-52f6-460c-b6ff-64f10b3eaf19"
      },
      "execution_count": 1,
      "outputs": [
        {
          "output_type": "stream",
          "name": "stdout",
          "text": [
            "当然，雅思（International English Language Testing System，国际英语语言测试系统）考试中的Task 1是学术类和培训类写作部分的第一项任务。这项任务要求考生根据给定的信息或数据，完成一篇描述性或解释性的短文。\n",
            "\n",
            "在学术类雅思写作Task 1中，考生通常需要描述一个图表、表格或图形，这可能包括趋势、比较、分布等。考生需要展示他们能够理解和分析数据，并用清晰、准确、恰当的语言来表达这些信息。\n",
            "\n",
            "培训类雅思写作Task 1则可能要求考生写一封书信，解决一个问题或解释一个情况。这可能包括投诉信、请求信、建议信等。\n",
            "\n",
            "无论是学术类还是培训类，Task 1都要求考生能够：\n",
            "\n",
            "1. **理解题目要求**：准确把握题目要求，明确写作目的。\n",
            "2. **组织信息**：合理组织数据或信息，使其逻辑清晰。\n",
            "3. **使用恰当的语言**：使用恰当的词汇和语法结构来描述数据或解释情况。\n",
            "4. **保持客观和准确**：在描述数据时保持客观，避免主观判断。\n",
            "\n",
            "雅思写作Task 1的评分标准包括任务完成度、连贯与衔接、词汇资源和语法范围与准确性。考生需要在这四个方面都表现出色，才能获得高分。\n"
          ]
        }
      ]
    },
    {
      "cell_type": "code",
      "source": [
        "!apt-get install -y tesseract-ocr"
      ],
      "metadata": {
        "colab": {
          "base_uri": "https://localhost:8080/"
        },
        "id": "5849OAf1ieRD",
        "outputId": "f5fa0d96-d599-4291-c46b-d9bc2ac74d66"
      },
      "execution_count": 21,
      "outputs": [
        {
          "output_type": "stream",
          "name": "stdout",
          "text": [
            "Reading package lists... Done\n",
            "Building dependency tree... Done\n",
            "Reading state information... Done\n",
            "tesseract-ocr is already the newest version (4.1.1-2.1build1).\n",
            "0 upgraded, 0 newly installed, 0 to remove and 49 not upgraded.\n"
          ]
        }
      ]
    },
    {
      "cell_type": "code",
      "source": [
        "pip install pytesseract"
      ],
      "metadata": {
        "colab": {
          "base_uri": "https://localhost:8080/"
        },
        "id": "18muHxtVhFHJ",
        "outputId": "f71dfb36-8a40-4e5e-f231-7e3109892bd4"
      },
      "execution_count": 15,
      "outputs": [
        {
          "output_type": "stream",
          "name": "stdout",
          "text": [
            "Requirement already satisfied: pytesseract in /usr/local/lib/python3.10/dist-packages (0.3.13)\n",
            "Requirement already satisfied: packaging>=21.3 in /usr/local/lib/python3.10/dist-packages (from pytesseract) (24.2)\n",
            "Requirement already satisfied: Pillow>=8.0.0 in /usr/local/lib/python3.10/dist-packages (from pytesseract) (11.0.0)\n"
          ]
        }
      ]
    },
    {
      "cell_type": "code",
      "source": [
        "pip install Pillow"
      ],
      "metadata": {
        "colab": {
          "base_uri": "https://localhost:8080/"
        },
        "id": "Jj3aF0fvhZls",
        "outputId": "8ef90773-01d1-40ad-a6c8-fecd95e007bb"
      },
      "execution_count": 9,
      "outputs": [
        {
          "output_type": "stream",
          "name": "stdout",
          "text": [
            "Requirement already satisfied: Pillow in /usr/local/lib/python3.10/dist-packages (11.0.0)\n"
          ]
        }
      ]
    },
    {
      "cell_type": "markdown",
      "source": [
        "雅思Task2的prompt"
      ],
      "metadata": {
        "id": "Cdy7csDQpsVG"
      }
    },
    {
      "cell_type": "code",
      "source": [
        "from openai import OpenAI\n",
        "import pytesseract\n",
        "from PIL import Image\n",
        "\n",
        "client = OpenAI(\n",
        "    api_key=\"sk-MgbjqB89s6uRHqhMi08SbQcGXp6Cz3REHjif6sQTgck757XQ\",  # 在这里将 MOONSHOT_API_KEY 替换为你从 Kimi 开放平台申请的 API Key\n",
        "    base_url=\"https://api.moonshot.cn/v1\",\n",
        ")\n",
        "\n",
        "# 进行OCR识别\n",
        "def image_to_text(image_path):\n",
        "    img = Image.open(image_path)\n",
        "    text = pytesseract.image_to_string(img)\n",
        "    return text.strip()  # 返回清理后的文本\n",
        "\n",
        "# 定义函数，处理英语学习问题\n",
        "def IELTS_Writing_Tutor_Task2(question):\n",
        "    teacher_prompt = \"\"\"\n",
        "    请根据用户提供的雅思Task 2作文题目，写一篇高分作文。要求如下：\n",
        "\n",
        "    1. 结构清晰：作文应包括引言、至少两个主体段落、以及结论段。\n",
        "    2. 论点明确：每个主体段落要有一个清晰的论点，并通过具体的例子或理由进行支持。\n",
        "    3. 语言流畅且高级：使用复杂且准确的句型，尽量避免简单句型，确保文章语言多样化且流畅。\n",
        "    4. 不要重复观点：确保每段有独立的观点，避免重复同一论点。\n",
        "    5. 语法和拼写准确：确保没有语法错误和拼写错误。\n",
        "    6. 总结观点并给出个人意见：结论段要总结论点并明确给出个人意见。\n",
        "    7. 论据充分：论点需要有清晰的证据或例子来支持，确保论证过程有逻辑性。\n",
        "\n",
        "    请注意，文章需要控制在300词左右，并尽量遵循雅思写作评分标准的高分要求。\n",
        "\n",
        "    请生成文章内容，不要显示题目或段落标题，仅提供清晰的作文内容，并在输出的时候注意分段。\n",
        "    \"\"\"\n",
        "\n",
        "    # 使用 Kimi API 生成回答\n",
        "    completion = client.chat.completions.create(\n",
        "        model=\"moonshot-v1-8k\",  # 使用 moonshot-v1-8k 模型\n",
        "        messages=[\n",
        "            {\"role\": \"system\", \"content\": teacher_prompt},  # 系统提示词，定义角色和行为\n",
        "            {\"role\": \"user\", \"content\": question}  # 学生提问\n",
        "        ],\n",
        "        temperature=0.3,  # 温度设置，控制生成的答案的随机性\n",
        "    )\n",
        "\n",
        "    # 返回生成的作文内容\n",
        "    return completion.choices[0].message.content\n",
        "\n",
        "# # 调用函数，传入学生的问题\n",
        "# student_question = \"Some people say that the purpose of education is to prepare individuals to be useful to society. Others say its purpose is to prepare individuals to achieve personal ambitions. Discuss both views and give your opinion.\"\n",
        "# answer = IELTS_Writing_Tutor_Task2(student_question)\n",
        "\n",
        "# # 打印回答\n",
        "# print(answer)\n"
      ],
      "metadata": {
        "id": "aVLd2VUaYVsP"
      },
      "execution_count": 22,
      "outputs": []
    },
    {
      "cell_type": "code",
      "source": [
        "# 调用函数，传入学生的问题\n",
        "\n",
        "image_path = \"/content/1731652108505.png\"\n",
        "extracted_text = image_to_text(image_path)\n",
        "# student_question = \"Some people say that the purpose of education is to prepare individuals to be useful to society. Others say its purpose is to prepare individuals to achieve personal ambitions. Discuss both views and give your opinion.\"\n",
        "answer = IELTS_Writing_Tutor_Task2(extracted_text)\n",
        "\n",
        "# 打印回答\n",
        "print(answer)"
      ],
      "metadata": {
        "colab": {
          "base_uri": "https://localhost:8080/"
        },
        "id": "tUeWJju7aMCL",
        "outputId": "629aadc0-1103-4e18-f968-0d727a7e7941"
      },
      "execution_count": 23,
      "outputs": [
        {
          "output_type": "stream",
          "name": "stdout",
          "text": [
            "The globalization of the retail sector has led to a scenario where shops and products across different countries are becoming increasingly similar. This phenomenon has sparked a debate among people, with some viewing it as a positive development while others see it as a negative one.\n",
            "\n",
            "On one hand, the homogenization of shops and products can be seen as beneficial for several reasons. Firstly, it provides consumers with a sense of familiarity and comfort, especially when they travel to different countries. For instance, recognizing global brands like Starbucks or McDonald's can be reassuring for tourists who may not speak the local language or be familiar with local customs. Additionally, the standardization of products can lead to economies of scale, reducing costs and making goods more affordable for consumers. This is particularly evident in the electronics industry, where companies like Apple and Samsung have managed to lower prices through mass production and distribution.\n",
            "\n",
            "On the other hand, there are concerns that this trend could lead to a loss of cultural diversity and uniqueness. Local businesses may struggle to compete with multinational corporations, leading to the disappearance of traditional products and services. This could result in a loss of cultural heritage, as local crafts and artisanal products are often replaced by mass-produced alternatives. Moreover, the dominance of global brands can lead to a monotonous consumer landscape, where the distinctiveness of local markets is eroded, and the charm of exploring unique local shops is lost.\n",
            "\n",
            "In my opinion, while the convenience and affordability brought about by global brands are undeniable, it is crucial to strike a balance between globalization and local identity. This can be achieved by supporting policies that protect local businesses and encourage the preservation of cultural heritage. For instance, governments could provide incentives for small businesses or establish regulations that prevent large corporations from dominating the market. Ultimately, a diverse retail environment that celebrates both global brands and local uniqueness would be the most beneficial for consumers and society as a whole.\n"
          ]
        }
      ]
    },
    {
      "cell_type": "code",
      "source": [
        "from PIL import Image\n",
        "import pytesseract\n",
        "\n",
        "# 确保 Tesseract 路径已添加到环境变量中，如果没有，指定路径：\n",
        "# pytesseract.pytesseract.tesseract_cmd = r'C:\\Program Files\\Tesseract-OCR\\tesseract.exe'  # Windows\n",
        "\n",
        "# 读取图片\n",
        "img = Image.open('/content/1731652108505.png')\n",
        "\n",
        "# 进行OCR识别\n",
        "text = pytesseract.image_to_string(img)\n",
        "\n",
        "print(text)\n"
      ],
      "metadata": {
        "colab": {
          "base_uri": "https://localhost:8080/"
        },
        "id": "YC295XpmaL_f",
        "outputId": "d07a9761-84ae-4c7b-b197-f50c2cd15624"
      },
      "execution_count": 20,
      "outputs": [
        {
          "output_type": "stream",
          "name": "stdout",
          "text": [
            "Many different countries have most shops and products as the same. Some consider it a positive\n",
            "development, whereas others consider it negative. Discuss both views and give your opinion.\n",
            "\f\n"
          ]
        }
      ]
    },
    {
      "cell_type": "code",
      "source": [],
      "metadata": {
        "id": "h0_kir5uaL9I"
      },
      "execution_count": null,
      "outputs": []
    },
    {
      "cell_type": "code",
      "source": [],
      "metadata": {
        "id": "-okK6X7DaL6s"
      },
      "execution_count": null,
      "outputs": []
    },
    {
      "cell_type": "code",
      "source": [],
      "metadata": {
        "id": "aK4jVOTjaL4R"
      },
      "execution_count": null,
      "outputs": []
    },
    {
      "cell_type": "code",
      "source": [],
      "metadata": {
        "id": "tcSyGfWqaL1f"
      },
      "execution_count": null,
      "outputs": []
    },
    {
      "cell_type": "code",
      "source": [],
      "metadata": {
        "id": "i7V49-0CaLyW"
      },
      "execution_count": null,
      "outputs": []
    },
    {
      "cell_type": "code",
      "source": [],
      "metadata": {
        "id": "D1pb8y6oaLv0"
      },
      "execution_count": null,
      "outputs": []
    },
    {
      "cell_type": "code",
      "source": [],
      "metadata": {
        "id": "GDFcpbSFaLon"
      },
      "execution_count": null,
      "outputs": []
    },
    {
      "cell_type": "code",
      "execution_count": 5,
      "metadata": {
        "colab": {
          "base_uri": "https://localhost:8080/"
        },
        "id": "mRVCa1l4xDwB",
        "outputId": "4226490f-cccd-44e9-ad9e-0d1a56ebbab7"
      },
      "outputs": [
        {
          "output_type": "stream",
          "name": "stdout",
          "text": [
            "Title: The Purpose of Education: Serving Society or Personal Ambitions\n",
            "\n",
            "Introduction:\n",
            "Education is a cornerstone of human development, and its purpose has been a subject of debate for centuries. While some argue that the primary goal of education is to equip individuals with the skills necessary to contribute to society, others believe it should focus on enabling personal achievement. This essay will explore both perspectives and present a balanced view on the matter.\n",
            "\n",
            "Body Paragraph 1 - Preparing Individuals to be Useful to Society:\n",
            "Advocates for the societal view of education assert that it should prioritize the development of individuals who can contribute positively to the community. This perspective is underpinned by the belief that education should foster a sense of civic responsibility and social awareness. For instance, by teaching subjects like history and civics, schools can instill values such as patriotism, social justice, and the importance of community service. Moreover, vocational training and technical education prepare individuals for jobs that directly benefit the economy and society. The case of Germany's dual education system, which combines classroom learning with on-the-job training, is a successful model that has produced a highly skilled workforce and low youth unemployment rates.\n",
            "\n",
            "Body Paragraph 2 - Preparing Individuals to Achieve Personal Ambitions:\n",
            "On the other hand, proponents of the personal ambition view argue that education should be a vehicle for self-fulfillment and the pursuit of individual dreams. This approach emphasizes the importance of personal growth, creativity, and the freedom to explore one's interests. For example, a\n"
          ]
        }
      ],
      "source": [
        "from openai import OpenAI\n",
        "\n",
        "client = OpenAI(\n",
        "    api_key=\"sk-MgbjqB89s6uRHqhMi08SbQcGXp6Cz3REHjif6sQTgck757XQ\", # 在这里将 MOONSHOT_API_KEY 替换为你从 Kimi 开放平台申请的 API Key\n",
        "    base_url=\"https://api.moonshot.cn/v1\",\n",
        ")\n",
        "\n",
        "# 定义函数，处理英语学习问题\n",
        "\n",
        "def IELTS_Writing_Tutor1(question, max_tokens=300):\n",
        "    teacher_prompt = \"\"\"\n",
        "    请根据用户提供的雅思作文题目，写一篇高分作文。要求结构清晰、论点明确、内容丰富、语言流畅，并尽量运用较为高级的词汇和句型。\n",
        "    请注意避免语法错误和拼写错误，确保文章符合雅思写作评分标准中的高分要求。\n",
        "\n",
        "    请遵循以下结构：\n",
        "    1. 引言段：简要介绍背景，清晰阐述你的观点。\n",
        "    2. 主体段：详细展开你的论点，每个段落一个主要观点，提供具体的例子和理由来支持你的观点。\n",
        "    3. 结论段：总结你的论点，强调你的立场，适当提供未来的展望或建议。\n",
        "\n",
        "    请确保文章的字数控制在合适范围内，并且条理清晰、语言得体。\n",
        "    \"\"\"\n",
        "\n",
        "    # 使用 Kimi API 生成回答\n",
        "    completion = client.chat.completions.create(\n",
        "        model=\"moonshot-v1-8k\",  # 使用 moonshot-v1-8k 模型\n",
        "        messages=[\n",
        "            {\"role\": \"system\", \"content\": teacher_prompt},  # 系统提示词，定义角色和行为\n",
        "            {\"role\": \"user\", \"content\": question}  # 学生提问\n",
        "        ],\n",
        "        temperature=0.3,  # 温度设置，控制生成的答案的随机性\n",
        "        max_tokens=max_tokens  # 控制最大字数\n",
        "    )\n",
        "\n",
        "    # 返回生成的作文内容\n",
        "    return completion.choices[0].message.content\n",
        "\n",
        "def IELTS_Writing_Tutor(question):\n",
        "    teacher_prompt = \"\"\"\n",
        "     请根据用户提供的雅思作文题目，写一篇高分作文。要求结构清晰、论点明确、内容丰富、语言流畅，并尽量运用较为高级的词汇和句型。请注意避免语法错误和拼写错误，确保文章符合雅思写作评分标准中的高分要求。\n",
        "\n",
        "    题目：{question}\n",
        "\n",
        "    请遵循以下结构：\n",
        "    1. 引言段：简要介绍背景，清晰阐述你的观点。\n",
        "    2. 主体段：详细展开你的论点，每个段落一个主要观点，提供具体的例子和理由来支持你的观点。\n",
        "    3. 结论段：总结你的论点，强调你的立场，适当提供未来的展望或建议。\n",
        "\n",
        "    请保证文章条理清晰，论据充分，语言得体。\n",
        "    \"\"\"\n",
        "\n",
        "    # 使用 Kimi API 生成回答\n",
        "    completion = client.chat.completions.create(\n",
        "        model = \"moonshot-v1-8k\",  # 使用 moonshot-v1-8k 模型\n",
        "        messages = [\n",
        "            {\"role\": \"system\", \"content\": teacher_prompt},  # 系统提示词，定义角色和行为\n",
        "            {\"role\": \"user\", \"content\": question}  # 学生提问\n",
        "        ],\n",
        "        temperature = 0.3,  # 温度设置，控制生成的答案的随机性\n",
        "    )\n",
        "\n",
        "    # 返回回答\n",
        "    return completion.choices[0].message.content\n",
        "\n",
        "# 调用函数，传入学生的问题\n",
        "student_question = \"根据以下题目帮我写一篇雅思范文吧###Some people say that the purpose of education is to prepare individuals to be useful to society. Others say its purpose is to prepare individuals to achieve personal ambitions.Discuss both views and give your opinion.###\"\n",
        "answer = IELTS_Writing_Tutor1(student_question)\n",
        "\n",
        "# 打印回答\n",
        "print(answer)\n"
      ]
    },
    {
      "cell_type": "markdown",
      "source": [
        "总结助手的函数"
      ],
      "metadata": {
        "id": "zhSmbyVdoLkW"
      }
    },
    {
      "cell_type": "code",
      "source": [
        "def generate_study_summary(logs):\n",
        "    summary_prompt = \"\"\"\n",
        "    You are a study summary assistant responsible for analyzing a student’s progress based on their learning history and answer logs.\n",
        "    Generate a brief and structured study report that includes:\n",
        "    1) Highlights of the student’s learning achievements and noticeable improvements.\n",
        "    2) Areas that need further practice, identifying specific challenges or gaps.\n",
        "    3) Personalized recommendations for the next steps, focusing on review and areas to strengthen.\n",
        "\n",
        "    Use encouraging language to help the student see their progress and to provide actionable advice. Make the suggestions targeted and useful for guiding the student in their future studies.\n",
        "    \"\"\"\n",
        "\n",
        "    response = openai.ChatCompletion.create(\n",
        "        model=\"gpt-4\",\n",
        "        messages=[\n",
        "            {\"role\": \"system\", \"content\": summary_prompt},\n",
        "            {\"role\": \"user\", \"content\": f\"Here is the student's learning log:\\n{logs}\"}\n",
        "        ]\n",
        "    )\n",
        "    return response['choices'][0]['message']['content']\n"
      ],
      "metadata": {
        "id": "aXFAyrYqoNJu"
      },
      "execution_count": null,
      "outputs": []
    }
  ]
}