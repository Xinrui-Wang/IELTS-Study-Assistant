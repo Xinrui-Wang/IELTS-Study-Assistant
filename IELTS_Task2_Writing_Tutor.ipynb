{
  "nbformat": 4,
  "nbformat_minor": 0,
  "metadata": {
    "colab": {
      "provenance": [],
      "authorship_tag": "ABX9TyN9CMhCHv0VGXapaORThbAx",
      "include_colab_link": true
    },
    "kernelspec": {
      "name": "python3",
      "display_name": "Python 3"
    },
    "language_info": {
      "name": "python"
    }
  },
  "cells": [
    {
      "cell_type": "markdown",
      "metadata": {
        "id": "view-in-github",
        "colab_type": "text"
      },
      "source": [
        "<a href=\"https://colab.research.google.com/github/Xinrui-Wang/IELTS-Study-Assistant/blob/main/IELTS_Task2_Writing_Tutor.ipynb\" target=\"_parent\"><img src=\"https://colab.research.google.com/assets/colab-badge.svg\" alt=\"Open In Colab\"/></a>"
      ]
    },
    {
      "cell_type": "code",
      "source": [
        "pip install openai"
      ],
      "metadata": {
        "colab": {
          "base_uri": "https://localhost:8080/"
        },
        "id": "hN7_FXZ0pDdW",
        "outputId": "83bb2a65-a3ee-468d-83ff-ffb2aba3814f"
      },
      "execution_count": null,
      "outputs": [
        {
          "output_type": "stream",
          "name": "stdout",
          "text": [
            "Requirement already satisfied: openai in /usr/local/lib/python3.10/dist-packages (1.54.3)\n",
            "Requirement already satisfied: anyio<5,>=3.5.0 in /usr/local/lib/python3.10/dist-packages (from openai) (3.7.1)\n",
            "Requirement already satisfied: distro<2,>=1.7.0 in /usr/local/lib/python3.10/dist-packages (from openai) (1.9.0)\n",
            "Requirement already satisfied: httpx<1,>=0.23.0 in /usr/local/lib/python3.10/dist-packages (from openai) (0.27.2)\n",
            "Requirement already satisfied: jiter<1,>=0.4.0 in /usr/local/lib/python3.10/dist-packages (from openai) (0.7.0)\n",
            "Requirement already satisfied: pydantic<3,>=1.9.0 in /usr/local/lib/python3.10/dist-packages (from openai) (2.9.2)\n",
            "Requirement already satisfied: sniffio in /usr/local/lib/python3.10/dist-packages (from openai) (1.3.1)\n",
            "Requirement already satisfied: tqdm>4 in /usr/local/lib/python3.10/dist-packages (from openai) (4.66.6)\n",
            "Requirement already satisfied: typing-extensions<5,>=4.11 in /usr/local/lib/python3.10/dist-packages (from openai) (4.12.2)\n",
            "Requirement already satisfied: idna>=2.8 in /usr/local/lib/python3.10/dist-packages (from anyio<5,>=3.5.0->openai) (3.10)\n",
            "Requirement already satisfied: exceptiongroup in /usr/local/lib/python3.10/dist-packages (from anyio<5,>=3.5.0->openai) (1.2.2)\n",
            "Requirement already satisfied: certifi in /usr/local/lib/python3.10/dist-packages (from httpx<1,>=0.23.0->openai) (2024.8.30)\n",
            "Requirement already satisfied: httpcore==1.* in /usr/local/lib/python3.10/dist-packages (from httpx<1,>=0.23.0->openai) (1.0.6)\n",
            "Requirement already satisfied: h11<0.15,>=0.13 in /usr/local/lib/python3.10/dist-packages (from httpcore==1.*->httpx<1,>=0.23.0->openai) (0.14.0)\n",
            "Requirement already satisfied: annotated-types>=0.6.0 in /usr/local/lib/python3.10/dist-packages (from pydantic<3,>=1.9.0->openai) (0.7.0)\n",
            "Requirement already satisfied: pydantic-core==2.23.4 in /usr/local/lib/python3.10/dist-packages (from pydantic<3,>=1.9.0->openai) (2.23.4)\n"
          ]
        }
      ]
    },
    {
      "cell_type": "markdown",
      "source": [
        "测试api是否正常"
      ],
      "metadata": {
        "id": "rUfgDJdToGur"
      }
    },
    {
      "cell_type": "code",
      "source": [
        "from openai import OpenAI\n",
        "\n",
        "client = OpenAI(\n",
        "    api_key=\"sk-MgbjqB89s6uRHqhMi08SbQcGXp6Cz3REHjif6sQTgck757XQ\", # 在这里将 MOONSHOT_API_KEY 替换为你从 Kimi 开放平台申请的 API Key\n",
        "    base_url=\"https://api.moonshot.cn/v1\",\n",
        ")\n",
        "\n",
        "completion = client.chat.completions.create(\n",
        "    model = \"moonshot-v1-8k\",\n",
        "    messages = [\n",
        "        {\"role\": \"system\", \"content\": \"你是 Kimi，由 Moonshot AI 提供的人工智能助手，你更擅长中文和英文的对话。你会为用户提供安全，有帮助，准确的回答。同时，你会拒绝一切涉及恐怖主义，种族歧视，黄色暴力等问题的回答。Moonshot AI 为专有名词，不可翻译成其他语言。\"},\n",
        "        {\"role\": \"user\", \"content\": \"你知道什么是雅思作文task1吗\"}\n",
        "    ],\n",
        "    temperature = 0.3,\n",
        ")\n",
        "\n",
        "# 通过 API 我们获得了 Kimi 大模型给予我们的回复消息（role=assistant）\n",
        "print(completion.choices[0].message.content)"
      ],
      "metadata": {
        "colab": {
          "base_uri": "https://localhost:8080/"
        },
        "id": "CTNqZVmhrlvG",
        "outputId": "785dffcd-52f6-460c-b6ff-64f10b3eaf19"
      },
      "execution_count": null,
      "outputs": [
        {
          "output_type": "stream",
          "name": "stdout",
          "text": [
            "当然，雅思（International English Language Testing System，国际英语语言测试系统）考试中的Task 1是学术类和培训类写作部分的第一项任务。这项任务要求考生根据给定的信息或数据，完成一篇描述性或解释性的短文。\n",
            "\n",
            "在学术类雅思写作Task 1中，考生通常需要描述一个图表、表格或图形，这可能包括趋势、比较、分布等。考生需要展示他们能够理解和分析数据，并用清晰、准确、恰当的语言来表达这些信息。\n",
            "\n",
            "培训类雅思写作Task 1则可能要求考生写一封书信，解决一个问题或解释一个情况。这可能包括投诉信、请求信、建议信等。\n",
            "\n",
            "无论是学术类还是培训类，Task 1都要求考生能够：\n",
            "\n",
            "1. **理解题目要求**：准确把握题目要求，明确写作目的。\n",
            "2. **组织信息**：合理组织数据或信息，使其逻辑清晰。\n",
            "3. **使用恰当的语言**：使用恰当的词汇和语法结构来描述数据或解释情况。\n",
            "4. **保持客观和准确**：在描述数据时保持客观，避免主观判断。\n",
            "\n",
            "雅思写作Task 1的评分标准包括任务完成度、连贯与衔接、词汇资源和语法范围与准确性。考生需要在这四个方面都表现出色，才能获得高分。\n"
          ]
        }
      ]
    },
    {
      "cell_type": "markdown",
      "source": [
        "下面是装载图片解析所必要的库"
      ],
      "metadata": {
        "id": "VQoUhEm_mxQx"
      }
    },
    {
      "cell_type": "code",
      "source": [
        "!apt-get install -y tesseract-ocr"
      ],
      "metadata": {
        "colab": {
          "base_uri": "https://localhost:8080/"
        },
        "id": "5849OAf1ieRD",
        "outputId": "8861324c-516b-48fa-9123-ae3a00047a12"
      },
      "execution_count": 1,
      "outputs": [
        {
          "output_type": "stream",
          "name": "stdout",
          "text": [
            "Reading package lists... Done\n",
            "Building dependency tree... Done\n",
            "Reading state information... Done\n",
            "The following additional packages will be installed:\n",
            "  tesseract-ocr-eng tesseract-ocr-osd\n",
            "The following NEW packages will be installed:\n",
            "  tesseract-ocr tesseract-ocr-eng tesseract-ocr-osd\n",
            "0 upgraded, 3 newly installed, 0 to remove and 49 not upgraded.\n",
            "Need to get 4,816 kB of archives.\n",
            "After this operation, 15.6 MB of additional disk space will be used.\n",
            "Get:1 http://archive.ubuntu.com/ubuntu jammy/universe amd64 tesseract-ocr-eng all 1:4.00~git30-7274cfa-1.1 [1,591 kB]\n",
            "Get:2 http://archive.ubuntu.com/ubuntu jammy/universe amd64 tesseract-ocr-osd all 1:4.00~git30-7274cfa-1.1 [2,990 kB]\n",
            "Get:3 http://archive.ubuntu.com/ubuntu jammy/universe amd64 tesseract-ocr amd64 4.1.1-2.1build1 [236 kB]\n",
            "Fetched 4,816 kB in 1s (4,988 kB/s)\n",
            "Selecting previously unselected package tesseract-ocr-eng.\n",
            "(Reading database ... 123629 files and directories currently installed.)\n",
            "Preparing to unpack .../tesseract-ocr-eng_1%3a4.00~git30-7274cfa-1.1_all.deb ...\n",
            "Unpacking tesseract-ocr-eng (1:4.00~git30-7274cfa-1.1) ...\n",
            "Selecting previously unselected package tesseract-ocr-osd.\n",
            "Preparing to unpack .../tesseract-ocr-osd_1%3a4.00~git30-7274cfa-1.1_all.deb ...\n",
            "Unpacking tesseract-ocr-osd (1:4.00~git30-7274cfa-1.1) ...\n",
            "Selecting previously unselected package tesseract-ocr.\n",
            "Preparing to unpack .../tesseract-ocr_4.1.1-2.1build1_amd64.deb ...\n",
            "Unpacking tesseract-ocr (4.1.1-2.1build1) ...\n",
            "Setting up tesseract-ocr-eng (1:4.00~git30-7274cfa-1.1) ...\n",
            "Setting up tesseract-ocr-osd (1:4.00~git30-7274cfa-1.1) ...\n",
            "Setting up tesseract-ocr (4.1.1-2.1build1) ...\n",
            "Processing triggers for man-db (2.10.2-1) ...\n"
          ]
        }
      ]
    },
    {
      "cell_type": "code",
      "source": [
        "pip install pytesseract"
      ],
      "metadata": {
        "colab": {
          "base_uri": "https://localhost:8080/"
        },
        "id": "18muHxtVhFHJ",
        "outputId": "11a08a4f-0bea-4643-8578-d977bb5f5e42"
      },
      "execution_count": 2,
      "outputs": [
        {
          "output_type": "stream",
          "name": "stdout",
          "text": [
            "Collecting pytesseract\n",
            "  Downloading pytesseract-0.3.13-py3-none-any.whl.metadata (11 kB)\n",
            "Requirement already satisfied: packaging>=21.3 in /usr/local/lib/python3.10/dist-packages (from pytesseract) (24.2)\n",
            "Requirement already satisfied: Pillow>=8.0.0 in /usr/local/lib/python3.10/dist-packages (from pytesseract) (11.0.0)\n",
            "Downloading pytesseract-0.3.13-py3-none-any.whl (14 kB)\n",
            "Installing collected packages: pytesseract\n",
            "Successfully installed pytesseract-0.3.13\n"
          ]
        }
      ]
    },
    {
      "cell_type": "code",
      "source": [
        "pip install Pillow"
      ],
      "metadata": {
        "colab": {
          "base_uri": "https://localhost:8080/"
        },
        "id": "Jj3aF0fvhZls",
        "outputId": "fbcb529c-d0e7-425f-c034-0eb87b99cd9f"
      },
      "execution_count": 3,
      "outputs": [
        {
          "output_type": "stream",
          "name": "stdout",
          "text": [
            "Requirement already satisfied: Pillow in /usr/local/lib/python3.10/dist-packages (11.0.0)\n"
          ]
        }
      ]
    },
    {
      "cell_type": "markdown",
      "source": [
        "测试图片解析功能"
      ],
      "metadata": {
        "id": "oAAPtn7_o_Mx"
      }
    },
    {
      "cell_type": "code",
      "source": [
        "from PIL import Image\n",
        "import pytesseract\n",
        "\n",
        "# 确保 Tesseract 路径已添加到环境变量中，如果没有，指定路径：\n",
        "# pytesseract.pytesseract.tesseract_cmd = r'C:\\Program Files\\Tesseract-OCR\\tesseract.exe'  # Windows\n",
        "\n",
        "# 读取图片\n",
        "img = Image.open('/content/20241118155133.png')\n",
        "\n",
        "# 进行OCR识别\n",
        "text = pytesseract.image_to_string(img)\n",
        "\n",
        "print(text)"
      ],
      "metadata": {
        "colab": {
          "base_uri": "https://localhost:8080/"
        },
        "id": "EjSmJlYWo-Y3",
        "outputId": "f6a44a36-6535-463e-eb29-38b72bfa6fc6"
      },
      "execution_count": 4,
      "outputs": [
        {
          "output_type": "stream",
          "name": "stdout",
          "text": [
            "It has been suggested that all young adults should be required to undertake a period of unpaid work\n",
            "helping people in the community. Would the drawbacks of such a requirement be greater than the\n",
            "\f\n"
          ]
        }
      ]
    },
    {
      "cell_type": "markdown",
      "source": [
        "# 输入预处理模块，解析输入内容。\n",
        "该模块尚不完美，对图片为乱序输入的情况没有做处理。"
      ],
      "metadata": {
        "id": "jDpu9OATpzFx"
      }
    },
    {
      "cell_type": "code",
      "source": [
        "from typing import List, Dict\n",
        "from PIL import Image\n",
        "import pytesseract\n",
        "import os\n",
        "\n",
        "def process_user_input(user_input: Dict[str, List[str]]) -> str:\n",
        "    \"\"\"\n",
        "    处理用户输入，提取图片中的文字并与文本内容合并。\n",
        "\n",
        "    :param user_input: 包含 images（图片路径列表）和 text（用户输入的文本）的字典。\n",
        "                       示例: {\"images\": [\"img1.jpg\", \"img2.jpg\"], \"text\": \"This is a text input.\"}\n",
        "    :return: 合并后的完整文本内容。\n",
        "    \"\"\"\n",
        "    # 校验 text 字段\n",
        "    if \"text\" not in user_input or not user_input[\"text\"].strip():\n",
        "        raise ValueError(\"Text input cannot be empty.\")\n",
        "\n",
        "    # 校验 images 字段是否存在\n",
        "    image_texts = []\n",
        "    if \"images\" in user_input and user_input[\"images\"]:\n",
        "        for image_path in user_input[\"images\"]:\n",
        "            # 检查图片路径是否有效\n",
        "            if not os.path.isfile(image_path):\n",
        "                raise FileNotFoundError(f\"Image file not found: {image_path}\")\n",
        "\n",
        "            # 提取图片中的文字\n",
        "            try:\n",
        "                image_text = pytesseract.image_to_string(Image.open(image_path))\n",
        "                image_texts.append(image_text.strip())\n",
        "            except Exception as e:\n",
        "                raise RuntimeError(f\"Failed to process image {image_path}: {str(e)}\")\n",
        "\n",
        "    # 合并图片文字和用户提供的文本\n",
        "    combined_text = \"\\n\".join(image_texts) + \"\\n\" + user_input[\"text\"]\n",
        "    return combined_text.strip()\n",
        "\n",
        "# # 示例使用\n",
        "# if __name__ == \"__main__\":\n",
        "#     input_data = {\n",
        "#         \"images\": [\"/content/20241118155133.png\", \"/content/20241118155138.png\"],  # 替换为实际的图片路径\n",
        "#         \"text\": \"这是题目，帮我写一篇高分范文吧\"\n",
        "#     }\n",
        "#     try:\n",
        "#         result = process_user_input(input_data)\n",
        "#         print(\"Processed text:\")\n",
        "#         print(result)\n",
        "#     except Exception as e:\n",
        "#         print(f\"Error: {e}\")\n"
      ],
      "metadata": {
        "id": "D4h0as46pyud",
        "colab": {
          "base_uri": "https://localhost:8080/"
        },
        "outputId": "a2af9961-cbfb-4cf0-c771-071c706ec5fc"
      },
      "execution_count": 5,
      "outputs": [
        {
          "output_type": "stream",
          "name": "stdout",
          "text": [
            "Processed text:\n",
            "It has been suggested that all young adults should be required to undertake a period of unpaid work\n",
            "helping people in the community. Would the drawbacks of such a requirement be greater than the\n",
            "benefits to the community and the individual young adults?\n",
            "这是题目，帮我写一篇高分范文吧\n"
          ]
        }
      ]
    },
    {
      "cell_type": "markdown",
      "source": [
        "雅思Task2模块，包含图片解析与问题回答"
      ],
      "metadata": {
        "id": "Cdy7csDQpsVG"
      }
    },
    {
      "cell_type": "code",
      "source": [
        "from openai import OpenAI\n",
        "import pytesseract\n",
        "from PIL import Image\n",
        "\n",
        "client = OpenAI(\n",
        "    api_key=\"sk-MgbjqB89s6uRHqhMi08SbQcGXp6Cz3REHjif6sQTgck757XQ\",  # 在这里将 MOONSHOT_API_KEY 替换为你从 Kimi 开放平台申请的 API Key\n",
        "    base_url=\"https://api.moonshot.cn/v1\",\n",
        ")\n",
        "\n",
        "# 定义函数，处理英语学习问题\n",
        "def IELTS_Writing_Tutor_Task2(question):\n",
        "    teacher_prompt = \"\"\"\n",
        "    请根据用户提供的雅思Task 2作文题目，写一篇高分作文。要求如下：\n",
        "\n",
        "    1. 结构清晰：作文应包括引言、至少两个主体段落、以及结论段。\n",
        "    2. 论点明确：每个主体段落要有一个清晰的论点，并通过具体的例子或理由进行支持。\n",
        "    3. 语言流畅且高级：使用复杂且准确的句型，尽量避免简单句型，确保文章语言多样化且流畅。\n",
        "    4. 不要重复观点：确保每段有独立的观点，避免重复同一论点。\n",
        "    5. 语法和拼写准确：确保没有语法错误和拼写错误。\n",
        "    6. 总结观点并给出个人意见：结论段要总结论点并明确给出个人意见。\n",
        "    7. 论据充分：论点需要有清晰的证据或例子来支持，确保论证过程有逻辑性。\n",
        "\n",
        "    请注意，文章需要控制在300词左右，并尽量遵循雅思写作评分标准的高分要求。\n",
        "\n",
        "    请生成文章内容，不要显示题目或段落标题，仅提供清晰的作文内容，并在输出的时候注意分段。\n",
        "    \"\"\"\n",
        "\n",
        "    # 使用 Kimi API 生成回答\n",
        "    completion = client.chat.completions.create(\n",
        "        model=\"moonshot-v1-8k\",  # 使用 moonshot-v1-8k 模型\n",
        "        messages=[\n",
        "            {\"role\": \"system\", \"content\": teacher_prompt},  # 系统提示词，定义角色和行为\n",
        "            {\"role\": \"user\", \"content\": question}  # 学生提问\n",
        "        ],\n",
        "        temperature=0.3,  # 温度设置，控制生成的答案的随机性\n",
        "    )\n",
        "\n",
        "    # 返回生成的作文内容\n",
        "    return completion.choices[0].message.content\n",
        "\n",
        "# # 调用函数，传入学生的问题\n",
        "# student_question = \"Some people say that the purpose of education is to prepare individuals to be useful to society. Others say its purpose is to prepare individuals to achieve personal ambitions. Discuss both views and give your opinion.\"\n",
        "# answer = IELTS_Writing_Tutor_Task2(student_question)\n",
        "\n",
        "# # 打印回答\n",
        "# print(answer)\n"
      ],
      "metadata": {
        "id": "aVLd2VUaYVsP"
      },
      "execution_count": 9,
      "outputs": []
    },
    {
      "cell_type": "code",
      "source": [
        "input_data = {\n",
        "    \"images\": [\"/content/20241118155133.png\", \"/content/20241118155138.png\"],  # 替换为实际的图片路径\n",
        "    \"text\": \"这是题目，帮我写一篇高分范文吧\"\n",
        "}\n",
        "\n",
        "try:\n",
        "    # 处理用户输入，提取有效的题目文本\n",
        "    question = process_user_input(input_data)\n",
        "    # 如果需要，可以打印处理后的文本\n",
        "    # print(\"Processed text:\")\n",
        "    # print(question)\n",
        "except Exception as e:\n",
        "    print(f\"Error: {e}\")\n",
        "\n",
        "# 使用处理后的题目生成作文\n",
        "answer = IELTS_Writing_Tutor_Task2(question)\n",
        "\n",
        "# 打印生成的作文内容\n",
        "print(answer)\n"
      ],
      "metadata": {
        "colab": {
          "base_uri": "https://localhost:8080/"
        },
        "id": "tUeWJju7aMCL",
        "outputId": "9de07495-fc6a-44e2-e408-a65752ba1289"
      },
      "execution_count": 10,
      "outputs": [
        {
          "output_type": "stream",
          "name": "stdout",
          "text": [
            "The proposition that all young adults should be required to undertake a period of unpaid community service has sparked a debate on its potential drawbacks versus benefits. This essay will explore the arguments from both sides of the spectrum, ultimately weighing the impact on the community and the individual young adults.\n",
            "\n",
            "On one hand, the benefits of mandatory community service for young adults are manifold. Firstly, it instills a sense of social responsibility and empathy in the youth, which is crucial for the development of well-rounded individuals. Engaging in unpaid work can expose them to the diverse needs of their community, fostering a deeper understanding and compassion towards others. For instance, young adults working in homeless shelters or food banks gain firsthand experience of social issues, which can motivate them to become advocates for change in the future. Additionally, such experiences can enhance their employability by developing transferable skills such as teamwork, communication, and problem-solving, which are highly valued in the job market.\n",
            "\n",
            "Conversely, there are significant drawbacks to mandating unpaid work. One major concern is the potential exploitation of young adults' labor. Without proper regulation, there is a risk that some organizations may take advantage of free labor, leading to overworked and undervalued volunteers. Moreover, not all young adults may be in a position to volunteer their time without compensation. For those from lower-income backgrounds, the lack of financial support could be a barrier to participation, exacerbating social inequalities. Furthermore, the mandatory nature of such a requirement could lead to resentment and a lack of genuine engagement, undermining the very values it aims to promote.\n",
            "\n",
            "In conclusion, while community service can undoubtedly offer valuable experiences and skills to young adults, the drawbacks of a mandatory unpaid work requirement must be carefully considered. The potential for exploitation and the financial burden on certain individuals suggest that a more nuanced approach may be necessary. Personally, I believe that voluntary participation, coupled with incentives such as academic credit or job placement assistance, could strike a balance between encouraging community engagement and respecting individual circumstances. This approach would allow young adults to contribute to their communities in a meaningful way without the pitfalls associated with a compulsory unpaid work requirement.\n"
          ]
        }
      ]
    }
  ]
}